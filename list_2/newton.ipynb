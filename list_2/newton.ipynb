{
 "cells": [
  {
   "cell_type": "markdown",
   "metadata": {},
   "source": [
    "# List 2"
   ]
  },
  {
   "cell_type": "code",
   "execution_count": 1,
   "metadata": {},
   "outputs": [],
   "source": [
    "from sympy import *\n",
    "import numpy as np"
   ]
  },
  {
   "cell_type": "code",
   "execution_count": 2,
   "metadata": {},
   "outputs": [],
   "source": [
    "def newton(F, dF, x_0, a, b, tol):\n",
    "    x = x_0\n",
    "    err = tol + 1\n",
    "    multi = False\n",
    "    if type(x) != int and type(x) != float:\n",
    "        multi = True\n",
    "    while err > tol:\n",
    "        x_old = x\n",
    "        if not multi:\n",
    "            x = x - F(x)/dF(x)\n",
    "        else:\n",
    "            y = np.linalg.solve(dF(*list(x.flat)), -F(*list(x.flat)))\n",
    "            x = y + x\n",
    "        err = np.linalg.norm(x-x_old)/np.linalg.norm(x_old)\n",
    "    return x"
   ]
  },
  {
   "cell_type": "markdown",
   "metadata": {},
   "source": [
    "## 7.(a)"
   ]
  },
  {
   "cell_type": "markdown",
   "metadata": {},
   "source": [
    "### First"
   ]
  },
  {
   "cell_type": "code",
   "execution_count": 3,
   "metadata": {},
   "outputs": [
    {
     "data": {
      "text/latex": [
       "$\\displaystyle x^{5} + 3 x^{2} - x + 1$"
      ],
      "text/plain": [
       "x**5 + 3*x**2 - x + 1"
      ]
     },
     "execution_count": 3,
     "metadata": {},
     "output_type": "execute_result"
    }
   ],
   "source": [
    "x = Symbol('x')\n",
    "\n",
    "f = x**5+3*x**2-x+1\n",
    "f"
   ]
  },
  {
   "cell_type": "code",
   "execution_count": 4,
   "metadata": {},
   "outputs": [
    {
     "name": "stdout",
     "output_type": "stream",
     "text": [
      "x = -1.590566740518185\n",
      "f(x) = -7.84444065260459e-10\n"
     ]
    }
   ],
   "source": [
    "df = diff(f, x)\n",
    "f = lambdify(x, f)\n",
    "df = lambdify(x, df)\n",
    "result = newton(f, df, -2, -2, -1.5, 10**-3)\n",
    "\n",
    "print('x = {}'.format(result))\n",
    "print('f(x) = {}'.format(f(result)))"
   ]
  },
  {
   "cell_type": "markdown",
   "metadata": {},
   "source": [
    "### Second"
   ]
  },
  {
   "cell_type": "code",
   "execution_count": 5,
   "metadata": {},
   "outputs": [
    {
     "data": {
      "text/latex": [
       "$\\displaystyle - x + e^{- x^{2}}$"
      ],
      "text/plain": [
       "-x + exp(-x**2)"
      ]
     },
     "execution_count": 5,
     "metadata": {},
     "output_type": "execute_result"
    }
   ],
   "source": [
    "g = exp(-x**2)-x\n",
    "g"
   ]
  },
  {
   "cell_type": "code",
   "execution_count": 6,
   "metadata": {},
   "outputs": [
    {
     "name": "stdout",
     "output_type": "stream",
     "text": [
      "x = 0.6529186405366332\n",
      "g(x) = -2.1754864576450927e-10\n"
     ]
    }
   ],
   "source": [
    "dg = diff(g, x)\n",
    "g = lambdify(x, g)\n",
    "dg = lambdify(x, dg)\n",
    "result = newton(g, dg, 0.7, 0, 0.7, 10**-3)\n",
    "\n",
    "print('x = {}'.format(result))\n",
    "print('g(x) = {}'.format(g(result)))"
   ]
  },
  {
   "cell_type": "markdown",
   "metadata": {},
   "source": [
    "### Third"
   ]
  },
  {
   "cell_type": "code",
   "execution_count": 7,
   "metadata": {},
   "outputs": [
    {
     "data": {
      "text/latex": [
       "$\\displaystyle 3 x - 2 - e^{- x}$"
      ],
      "text/plain": [
       "3*x - 2 - exp(-x)"
      ]
     },
     "execution_count": 7,
     "metadata": {},
     "output_type": "execute_result"
    }
   ],
   "source": [
    "h = -2+3*x-exp(-x)\n",
    "h"
   ]
  },
  {
   "cell_type": "code",
   "execution_count": 8,
   "metadata": {},
   "outputs": [
    {
     "name": "stdout",
     "output_type": "stream",
     "text": [
      "x = 0.8143143142996765\n",
      "h(x) = -1.4654943925052066e-14\n"
     ]
    }
   ],
   "source": [
    "dh = diff(h, x)\n",
    "h = lambdify(x, h)\n",
    "dh = lambdify(x, dh)\n",
    "result = newton(h, dh, 1, 0, 1, 10**-3)\n",
    "\n",
    "print('x = {}'.format(result))\n",
    "print('h(x) = {}'.format(h(result)))"
   ]
  },
  {
   "cell_type": "markdown",
   "metadata": {},
   "source": [
    "### Fourth"
   ]
  },
  {
   "cell_type": "code",
   "execution_count": 9,
   "metadata": {},
   "outputs": [
    {
     "data": {
      "text/latex": [
       "$\\displaystyle 0.5 x + \\cos{\\left(x \\right)}$"
      ],
      "text/plain": [
       "0.5*x + cos(x)"
      ]
     },
     "execution_count": 9,
     "metadata": {},
     "output_type": "execute_result"
    }
   ],
   "source": [
    "p = cos(x) + 0.5*x\n",
    "p"
   ]
  },
  {
   "cell_type": "code",
   "execution_count": 10,
   "metadata": {},
   "outputs": [
    {
     "name": "stdout",
     "output_type": "stream",
     "text": [
      "x = -1.0298665295285647\n",
      "p(x) = -2.8000457508170484e-10\n"
     ]
    }
   ],
   "source": [
    "dp = diff(p, x)\n",
    "p = lambdify(x, p)\n",
    "dp = lambdify(x, dp)\n",
    "result = newton(p, dp, -1.4, 0, -1.4, 10**-3)\n",
    "\n",
    "print('x = {}'.format(result))\n",
    "print('p(x) = {}'.format(p(result)))"
   ]
  },
  {
   "cell_type": "markdown",
   "metadata": {},
   "source": [
    "## (b)"
   ]
  },
  {
   "cell_type": "code",
   "execution_count": 11,
   "metadata": {},
   "outputs": [
    {
     "data": {
      "text/latex": [
       "$\\displaystyle \\left[\\begin{matrix}e^{x} - 3\\\\3 y + 4 z - 3\\\\2 x^{2} + 2 x + 2 z - 1\\end{matrix}\\right]$"
      ],
      "text/plain": [
       "Matrix([\n",
       "[            exp(x) - 3],\n",
       "[         3*y + 4*z - 3],\n",
       "[2*x**2 + 2*x + 2*z - 1]])"
      ]
     },
     "execution_count": 11,
     "metadata": {},
     "output_type": "execute_result"
    }
   ],
   "source": [
    "y = Symbol('y')\n",
    "z = Symbol('z')\n",
    "\n",
    "f1 = exp(x) - 3\n",
    "f2 = 3*y+4*z-3\n",
    "f3 = 2*x**2+2*x+2*z-1\n",
    "F = Matrix([f1,f2, f3])\n",
    "F"
   ]
  },
  {
   "cell_type": "code",
   "execution_count": 12,
   "metadata": {},
   "outputs": [
    {
     "name": "stdout",
     "output_type": "stream",
     "text": [
      "x = [1.0986126945317205, 3.407415647837589, -1.805561735878192]\n",
      "F(x) = [1.2175910795164668e-06, 8.881784197001252e-16, 1.622479552043643e-06]\n"
     ]
    }
   ],
   "source": [
    "dF = F.jacobian([x, y, z])\n",
    "F = lambdify([x, y, z], F)\n",
    "dF = lambdify([x, y, z], dF)\n",
    "result = newton(F, dF, np.array([[0], [1], [2]]), 0, 5, 10**-3)\n",
    "\n",
    "print('x = {}'.format(list(result.flat)))\n",
    "print('F(x) = {}'.format(list(F(*list(result.flat)).flat)))"
   ]
  }
 ],
 "metadata": {
  "kernelspec": {
   "display_name": "Python 3",
   "language": "python",
   "name": "python3"
  },
  "language_info": {
   "codemirror_mode": {
    "name": "ipython",
    "version": 3
   },
   "file_extension": ".py",
   "mimetype": "text/x-python",
   "name": "python",
   "nbconvert_exporter": "python",
   "pygments_lexer": "ipython3",
   "version": "3.8.5"
  }
 },
 "nbformat": 4,
 "nbformat_minor": 4
}
